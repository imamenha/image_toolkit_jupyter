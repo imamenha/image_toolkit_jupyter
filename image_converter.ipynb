{
 "cells": [
  {
   "cell_type": "code",
   "execution_count": 1,
   "id": "be727193-b779-40d4-997d-3cb123a96c4b",
   "metadata": {},
   "outputs": [],
   "source": [
    "from IPython.display import display\n",
    "from ipywidgets import FileUpload, Button, Dropdown, IntSlider, Output, VBox\n",
    "from PIL import Image\n",
    "import os\n",
    "\n",
    "# === Widget UI ===\n",
    "uploader = FileUpload(accept='.jpg,.jpeg,.png,.webp', multiple=True)\n",
    "save_button = Button(description=\"💾 Save All\")\n",
    "convert_button = Button(description=\"🔁 Convert All\")\n",
    "compress_button = Button(description=\"🗜 Compress All\")\n",
    "\n",
    "format_dropdown = Dropdown(options=['jpg', 'png', 'webp'], description='Convert to:')\n",
    "quality_slider = IntSlider(value=70, min=10, max=95, step=5, description='Quality:')\n",
    "\n",
    "output = Output()\n",
    "\n",
    "# === Folder setup ===\n",
    "os.makedirs(\"input_images\", exist_ok=True)\n",
    "os.makedirs(\"output_images\", exist_ok=True)\n",
    "\n",
    "# === Variabel global ===\n",
    "saved_image_paths = []"
   ]
  },
  {
   "cell_type": "code",
   "execution_count": 2,
   "id": "0729d034-c8f0-4fe5-9bb4-2ea33006bba8",
   "metadata": {},
   "outputs": [],
   "source": [
    "def on_save_all_clicked(b):\n",
    "    global saved_image_paths\n",
    "    output.clear_output()\n",
    "    saved_image_paths = []\n",
    "\n",
    "    if not uploader.value:\n",
    "        with output:\n",
    "            print(\"❌ Tidak ada file diupload.\")\n",
    "        return\n",
    "\n",
    "    os.makedirs(\"input_images\", exist_ok=True)\n",
    "\n",
    "    for fileinfo in uploader.value:\n",
    "        filename = fileinfo['name']\n",
    "        ext = os.path.splitext(filename)[1].lower()\n",
    "\n",
    "        if ext not in [\".jpg\", \".jpeg\", \".png\", \".webp\"]:\n",
    "            with output:\n",
    "                print(f\"❌ File {filename} tidak valid, dilewati.\")\n",
    "            continue\n",
    "\n",
    "        filepath = os.path.join(\"input_images\", filename)\n",
    "        with open(filepath, \"wb\") as f:\n",
    "            f.write(fileinfo['content'])\n",
    "\n",
    "        saved_image_paths.append(filepath)\n",
    "\n",
    "    with output:\n",
    "        print(f\"✅ {len(saved_image_paths)} gambar berhasil disimpan.\")\n"
   ]
  },
  {
   "cell_type": "code",
   "execution_count": 3,
   "id": "3277d9eb-3214-4abe-b4c7-20ff0519e1de",
   "metadata": {},
   "outputs": [],
   "source": [
    "from datetime import datetime\n",
    "\n",
    "def create_output_subfolder(action: str) -> str:\n",
    "    timestamp = datetime.now().strftime(\"%Y%m%d_%H%M%S\")\n",
    "    folder_name = f\"{action}_{timestamp}\"\n",
    "    folder_path = os.path.join(\"output_images\", folder_name)\n",
    "    os.makedirs(folder_path, exist_ok=True)\n",
    "    return folder_path"
   ]
  },
  {
   "cell_type": "code",
   "execution_count": 4,
   "id": "1693c6a5-d9e0-4619-b1b5-6c46e97b2633",
   "metadata": {},
   "outputs": [],
   "source": [
    "def format_bytes(size):\n",
    "    # Format ukuran file ke kB atau MB\n",
    "    for unit in ['B', 'KB', 'MB']:\n",
    "        if size < 1024.0:\n",
    "            return f\"{size:.1f} {unit}\"\n",
    "        size /= 1024.0\n",
    "    return f\"{size:.1f} GB\"\n",
    "\n",
    "def print_file_comparison(before_path, after_path):\n",
    "    before_size = os.path.getsize(before_path)\n",
    "    after_size = os.path.getsize(after_path)\n",
    "    saved = before_size - after_size\n",
    "    percent = (saved / before_size) * 100 if before_size else 0\n",
    "\n",
    "    print(f\"📦 Sebelum : {format_bytes(before_size)}\")\n",
    "    print(f\"📉 Sesudah : {format_bytes(after_size)}\")\n",
    "    print(f\"💯 Efisiensi : {percent:.1f}% lebih kecil\\n\")"
   ]
  },
  {
   "cell_type": "code",
   "execution_count": 5,
   "id": "4cc2ed97-1c7a-4618-87d0-472eea1141c8",
   "metadata": {},
   "outputs": [],
   "source": [
    "def on_convert_all_clicked(b):\n",
    "    output.clear_output()\n",
    "\n",
    "    if not saved_image_paths:\n",
    "        with output:\n",
    "            print(\"❌ Belum ada gambar yang disimpan.\")\n",
    "        return\n",
    "\n",
    "    target_format = format_dropdown.value.lower()\n",
    "    out_folder = create_output_subfolder(f\"converted\")\n",
    "\n",
    "    with output:\n",
    "        for path in saved_image_paths:\n",
    "            img = Image.open(path)\n",
    "            filename = os.path.splitext(os.path.basename(path))[0]\n",
    "            new_path = os.path.join(out_folder, f\"{filename}_converted.{target_format}\")\n",
    "            img.save(new_path, format=target_format.upper())\n",
    "            print(f\"✅ {filename} dikonversi ke {target_format.upper()}\")\n",
    "            print_file_comparison(path, new_path)"
   ]
  },
  {
   "cell_type": "code",
   "execution_count": 6,
   "id": "9b9867e6-a566-4ca7-b871-69831b31fa98",
   "metadata": {},
   "outputs": [],
   "source": [
    "def on_compress_all_clicked(b):\n",
    "    output.clear_output()\n",
    "\n",
    "    if not saved_image_paths:\n",
    "        with output:\n",
    "            print(\"❌ Belum ada gambar yang disimpan.\")\n",
    "        return\n",
    "\n",
    "    out_folder = create_output_subfolder(f\"compressed\")\n",
    "    quality = quality_slider.value\n",
    "\n",
    "    with output:\n",
    "        for path in saved_image_paths:\n",
    "            ext = os.path.splitext(path)[1].lower()\n",
    "            if ext not in [\".png\",\".jpg\", \".jpeg\", \".webp\"]:\n",
    "                print(f\"⚠️ {os.path.basename(path)} dilewati (format tidak dikompres).\")\n",
    "                continue\n",
    "\n",
    "            img = Image.open(path)\n",
    "            filename = os.path.splitext(os.path.basename(path))[0]\n",
    "            new_path = os.path.join(out_folder, f\"{filename}_compressed{ext}\")\n",
    "            img.save(new_path, format=img.format, quality=quality, optimize=True)\n",
    "\n",
    "            print(f\"✅ {filename} dikompres (quality={quality}%)\")\n",
    "            print_file_comparison(path, new_path)"
   ]
  },
  {
   "cell_type": "code",
   "execution_count": 7,
   "id": "85d35ec3-0d41-4f1a-9527-0d58aaa505bd",
   "metadata": {},
   "outputs": [],
   "source": [
    "save_button.on_click(on_save_all_clicked)\n",
    "convert_button.on_click(on_convert_all_clicked)\n",
    "compress_button.on_click(on_compress_all_clicked)\n"
   ]
  },
  {
   "cell_type": "code",
   "execution_count": 8,
   "id": "c653956b-3879-4962-81db-1dee053a40dd",
   "metadata": {},
   "outputs": [
    {
     "data": {
      "application/vnd.jupyter.widget-view+json": {
       "model_id": "b95d14dcc67048ebb0d9a9e7938ce784",
       "version_major": 2,
       "version_minor": 0
      },
      "text/plain": [
       "VBox(children=(FileUpload(value=(), accept='.jpg,.jpeg,.png,.webp', description='Upload', multiple=True), Butt…"
      ]
     },
     "metadata": {},
     "output_type": "display_data"
    }
   ],
   "source": [
    "display(VBox([\n",
    "    uploader,\n",
    "    save_button,\n",
    "    format_dropdown,\n",
    "    convert_button,\n",
    "    quality_slider,\n",
    "    compress_button,\n",
    "    output\n",
    "]))\n"
   ]
  },
  {
   "cell_type": "code",
   "execution_count": null,
   "id": "a95f088d-8640-4681-a800-15ec9614283c",
   "metadata": {},
   "outputs": [],
   "source": []
  }
 ],
 "metadata": {
  "kernelspec": {
   "display_name": "Python 3 (ipykernel)",
   "language": "python",
   "name": "python3"
  },
  "language_info": {
   "codemirror_mode": {
    "name": "ipython",
    "version": 3
   },
   "file_extension": ".py",
   "mimetype": "text/x-python",
   "name": "python",
   "nbconvert_exporter": "python",
   "pygments_lexer": "ipython3",
   "version": "3.12.4"
  }
 },
 "nbformat": 4,
 "nbformat_minor": 5
}
